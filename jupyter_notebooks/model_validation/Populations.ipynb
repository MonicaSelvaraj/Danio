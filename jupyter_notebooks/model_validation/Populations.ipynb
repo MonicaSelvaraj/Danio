{
 "cells": [
  {
   "cell_type": "markdown",
   "metadata": {},
   "source": [
    "## Possible initial populations for model validation"
   ]
  },
  {
   "cell_type": "code",
   "execution_count": 1,
   "metadata": {},
   "outputs": [],
   "source": [
    "import numpy as np\n",
    "import ipyvolume as ipv\n",
    "\n",
    "#Helix params\n",
    "numPoints = 1000 #population size\n",
    "radius = 3\n",
    "pitch = 14"
   ]
  },
  {
   "cell_type": "markdown",
   "metadata": {},
   "source": [
    "### Population 1 \n",
    "- Helix with fixed radius and pitch\n",
    "- Spatial error in x and y within 10% of the radius\n",
    "- Spatial error in z within 5% of the pitch"
   ]
  },
  {
   "cell_type": "code",
   "execution_count": 2,
   "metadata": {
    "scrolled": true
   },
   "outputs": [
    {
     "data": {
      "application/vnd.jupyter.widget-view+json": {
       "model_id": "ec5ea88eb7674f479f947848f0c2d010",
       "version_major": 2,
       "version_minor": 0
      },
      "text/plain": [
       "VBox(children=(Figure(camera=PerspectiveCamera(fov=46.0, position=(0.0, 0.0, 2.0), quaternion=(0.0, 0.0, 0.0, …"
      ]
     },
     "metadata": {},
     "output_type": "display_data"
    }
   ],
   "source": [
    "#Generating spatial error\n",
    "posErrorx = np.random.normal(0, (10/100)*radius, numPoints)\n",
    "posErrory = np.random.normal(0, (10/100)*radius, numPoints)\n",
    "posErrorz = np.random.normal(0, (5/100)*pitch , numPoints)\n",
    "\n",
    "#Generating helix \n",
    "t = np.linspace(0, 8*np.pi, numPoints) #controls number of helical turns \n",
    "x = radius*np.cos(t) + posErrorx\n",
    "y = radius*np.sin(t) + posErrory\n",
    "z = (pitch/(2*np.pi))*t + posErrorz\n",
    "\n",
    "#Viz\n",
    "fig = ipv.figure()\n",
    "ipv.style.use('dark')\n",
    "scatter = ipv.scatter(x,y,z, marker = 'sphere', color = 'blue', size = 5)\n",
    "ipv.show()"
   ]
  },
  {
   "cell_type": "markdown",
   "metadata": {},
   "source": [
    "### Population 2 \n",
    "- Helix with constantly increasing radius and fixed pitch\n",
    "- Spatial error in x and y within 12% of the radius\n",
    "- Spatial error in z within 10% of the pitch"
   ]
  },
  {
   "cell_type": "code",
   "execution_count": 3,
   "metadata": {},
   "outputs": [
    {
     "data": {
      "application/vnd.jupyter.widget-view+json": {
       "model_id": "4193f7151bab4aa4966a2698970ff6ed",
       "version_major": 2,
       "version_minor": 0
      },
      "text/plain": [
       "VBox(children=(Figure(camera=PerspectiveCamera(fov=46.0, position=(0.0, 0.0, 2.0), quaternion=(0.0, 0.0, 0.0, …"
      ]
     },
     "metadata": {},
     "output_type": "display_data"
    }
   ],
   "source": [
    "#Generating spatial error\n",
    "posErrorx = np.random.normal(0, (12/100)*radius, numPoints)\n",
    "posErrory = np.random.normal(0, (12/100)*radius, numPoints)\n",
    "posErrorz = np.random.normal(0, (10/100)*pitch , numPoints)\n",
    "\n",
    "#Generating helix\n",
    "x = (t*radius)*np.cos(t) + posErrorx\n",
    "y = (t*radius)*np.sin(t) + posErrory\n",
    "z = (pitch/(2*np.pi))*t + posErrorz\n",
    "\n",
    "#Viz\n",
    "fig = ipv.figure()\n",
    "ipv.style.use('dark')\n",
    "scatter = ipv.scatter(x,y,z, marker = 'sphere', color = 'blue', size = 5)\n",
    "ipv.show()"
   ]
  },
  {
   "cell_type": "markdown",
   "metadata": {},
   "source": [
    "### Population 3 \n",
    "- Helix with constantly increasing pitch and fixed radius\n",
    "- Spatial error in x and y within 15% of the radius\n",
    "- Spatial error in z within 15% of the pitch"
   ]
  },
  {
   "cell_type": "code",
   "execution_count": 4,
   "metadata": {
    "scrolled": true
   },
   "outputs": [
    {
     "data": {
      "application/vnd.jupyter.widget-view+json": {
       "model_id": "94c273e44cd74b2ab2346310b56f1d9f",
       "version_major": 2,
       "version_minor": 0
      },
      "text/plain": [
       "VBox(children=(Figure(camera=PerspectiveCamera(fov=46.0, position=(0.0, 0.0, 2.0), quaternion=(0.0, 0.0, 0.0, …"
      ]
     },
     "metadata": {},
     "output_type": "display_data"
    }
   ],
   "source": [
    "#Generating spatial error\n",
    "posErrorx = np.random.normal(0, (15/100)*radius, numPoints)\n",
    "posErrory = np.random.normal(0, (15/100)*radius, numPoints)\n",
    "posErrorz = np.random.normal(0, (15/100)*pitch , numPoints)\n",
    "\n",
    "#Generating helix\n",
    "x = radius*np.cos(t) + posErrorx\n",
    "y = radius*np.sin(t) + posErrory\n",
    "z = (t*pitch/(2*np.pi))*t + posErrorz\n",
    "\n",
    "#Viz\n",
    "fig = ipv.figure()\n",
    "ipv.style.use('dark')\n",
    "scatter = ipv.scatter(x,y,z, marker = 'sphere', color = 'blue', size = 5)\n",
    "ipv.show()"
   ]
  },
  {
   "cell_type": "markdown",
   "metadata": {},
   "source": [
    "### Population 4 \n",
    "- Helix with constantly increasing radius and pitch\n",
    "- Spatial error in x and y within 20% of the radius\n",
    "- Spatial error in z within 20% of the pitch"
   ]
  },
  {
   "cell_type": "code",
   "execution_count": 5,
   "metadata": {
    "scrolled": true
   },
   "outputs": [
    {
     "data": {
      "application/vnd.jupyter.widget-view+json": {
       "model_id": "99b17749232c4803a471ac7c87cf0588",
       "version_major": 2,
       "version_minor": 0
      },
      "text/plain": [
       "VBox(children=(Figure(camera=PerspectiveCamera(fov=46.0, position=(0.0, 0.0, 2.0), quaternion=(0.0, 0.0, 0.0, …"
      ]
     },
     "metadata": {},
     "output_type": "display_data"
    }
   ],
   "source": [
    "#Generating spatial error\n",
    "posErrorx = np.random.normal(0, (20/100)*radius, numPoints)\n",
    "posErrory = np.random.normal(0, (20/100)*radius, numPoints)\n",
    "posErrorz = np.random.normal(0, (20/100)*pitch , numPoints)\n",
    "\n",
    "x = (t*radius)*np.cos(t) + posErrorx\n",
    "y = (t*radius)*np.sin(t) + posErrory\n",
    "z = (t*pitch/(2*np.pi))*t + posErrorz\n",
    "\n",
    "fig = ipv.figure()\n",
    "ipv.style.use('dark')\n",
    "scatter = ipv.scatter(x,y,z, marker = 'sphere', color = 'blue', size = 5)\n",
    "ipv.show()"
   ]
  },
  {
   "cell_type": "markdown",
   "metadata": {},
   "source": [
    "### Population 5\n",
    "- Constantly decreasing followed by constantly increasing radius, fixed pitch\n",
    "- Spatial error in x and y within 22% of the radius\n",
    "- Spatial error in z within 22% of the pitch"
   ]
  },
  {
   "cell_type": "code",
   "execution_count": 7,
   "metadata": {
    "scrolled": true
   },
   "outputs": [
    {
     "name": "stderr",
     "output_type": "stream",
     "text": [
      "/Users/monicaselvaraj/miniconda3/envs/myenv/lib/python3.6/site-packages/ipykernel_launcher.py:8: DeprecationWarning: object of type <class 'float'> cannot be safely interpreted as an integer.\n",
      "  \n"
     ]
    },
    {
     "data": {
      "application/vnd.jupyter.widget-view+json": {
       "model_id": "d83a909349634cbb95db6c0174c4ad30",
       "version_major": 2,
       "version_minor": 0
      },
      "text/plain": [
       "VBox(children=(Figure(camera=PerspectiveCamera(fov=46.0, position=(0.0, 0.0, 2.0), quaternion=(0.0, 0.0, 0.0, …"
      ]
     },
     "metadata": {},
     "output_type": "display_data"
    }
   ],
   "source": [
    "#Generating spatial error\n",
    "posErrorx = np.random.normal(0, (10/100)*radius, numPoints)\n",
    "posErrory = np.random.normal(0, (10/100)*radius, numPoints)\n",
    "posErrorz = np.random.normal(0, (10/100)*pitch , numPoints)\n",
    "\n",
    "#Generating helix \n",
    "t = np.linspace(0, 8*np.pi, numPoints) #controls number of helical turns \n",
    "a = np.linspace(0, 4*np.pi, numPoints/2)\n",
    "a = np.concatenate([np.flip(a),a])\n",
    "x = a*radius*np.cos(t) + posErrorx\n",
    "y = a*radius*np.sin(t) + posErrory\n",
    "z = (pitch/(2*np.pi))*t + posErrorz\n",
    "\n",
    "#Viz\n",
    "fig = ipv.figure()\n",
    "ipv.style.use('dark')\n",
    "scatter = ipv.scatter(x,y,z, marker = 'sphere', color = 'blue', size = 5)\n",
    "ipv.show()"
   ]
  },
  {
   "cell_type": "markdown",
   "metadata": {},
   "source": [
    "### Population 6\n",
    "- Constantly decreasing followed by constantly increasing pitch, fixed radius\n",
    "- Spatial error in x and y within 25% of the radius\n",
    "- Spatial error in z within 25% of the pitch"
   ]
  },
  {
   "cell_type": "markdown",
   "metadata": {},
   "source": [
    "### Population 7\n",
    "- Constantly decreasing followed by constantly increasing pitch and radius\n",
    "- Spatial error in x and y within 27% of the radius\n",
    "- Spatial error in z within 27% of the pitch"
   ]
  }
 ],
 "metadata": {
  "kernelspec": {
   "display_name": "Python 3",
   "language": "python",
   "name": "python3"
  },
  "language_info": {
   "codemirror_mode": {
    "name": "ipython",
    "version": 3
   },
   "file_extension": ".py",
   "mimetype": "text/x-python",
   "name": "python",
   "nbconvert_exporter": "python",
   "pygments_lexer": "ipython3",
   "version": "3.6.7"
  }
 },
 "nbformat": 4,
 "nbformat_minor": 2
}
