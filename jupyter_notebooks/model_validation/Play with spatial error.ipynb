{
 "cells": [
  {
   "cell_type": "markdown",
   "metadata": {},
   "source": [
    "The Helix has a fixed radius of 3 and pitch of 14."
   ]
  },
  {
   "cell_type": "code",
   "execution_count": 1,
   "metadata": {},
   "outputs": [],
   "source": [
    "import numpy as np\n",
    "import ipyvolume as ipv\n",
    "\n",
    "#Helix params\n",
    "numPoints = 1000 #population size\n",
    "radius = 3\n",
    "pitch = 14\n",
    "\n",
    "def generatePopulation(p_error):\n",
    "    #Generating spatial error\n",
    "    posErrorx = np.random.normal(0, (p_error/100)*radius, numPoints)\n",
    "    posErrory = np.random.normal(0, (p_error/100)*radius, numPoints)\n",
    "    posErrorz = np.random.normal(0, (p_error/100)*pitch , numPoints)\n",
    "\n",
    "    #Generating helix \n",
    "    t = np.linspace(0, 8*np.pi, numPoints) #controls number of helical turns \n",
    "    x = radius*np.cos(t) + posErrorx\n",
    "    y = radius*np.sin(t) + posErrory\n",
    "    z = (pitch/(2*np.pi))*t + posErrorz\n",
    "    return (x,y,z)\n",
    "    \n",
    "def viz(x,y,z):\n",
    "    #Viz\n",
    "    fig = ipv.figure()\n",
    "    ipv.style.use('dark')\n",
    "    scatter = ipv.scatter(x,y,z, marker = 'sphere', color = 'blue', size = 5)\n",
    "    ipv.show()\n",
    "    return "
   ]
  },
  {
   "cell_type": "markdown",
   "metadata": {},
   "source": [
    "To check out helices with different spatial error, enter the percent error in the argument for generatePopulation below. \n",
    "The percent error is set to 5 by default. This generates spatial error in the x and y dimensions within 5% of the radius and spatial error in the z dimenstion within 5% of the pitch."
   ]
  },
  {
   "cell_type": "code",
   "execution_count": 2,
   "metadata": {
    "scrolled": true
   },
   "outputs": [
    {
     "data": {
      "application/vnd.jupyter.widget-view+json": {
       "model_id": "79503deb015f4e7ab95db043669981b9",
       "version_major": 2,
       "version_minor": 0
      },
      "text/plain": [
       "VBox(children=(Figure(camera=PerspectiveCamera(fov=46.0, position=(0.0, 0.0, 2.0), quaternion=(0.0, 0.0, 0.0, …"
      ]
     },
     "metadata": {},
     "output_type": "display_data"
    }
   ],
   "source": [
    "x,y,z = generatePopulation(5)\n",
    "viz(x,y,z)"
   ]
  },
  {
   "cell_type": "code",
   "execution_count": null,
   "metadata": {},
   "outputs": [],
   "source": []
  }
 ],
 "metadata": {
  "kernelspec": {
   "display_name": "Python 3",
   "language": "python",
   "name": "python3"
  },
  "language_info": {
   "codemirror_mode": {
    "name": "ipython",
    "version": 3
   },
   "file_extension": ".py",
   "mimetype": "text/x-python",
   "name": "python",
   "nbconvert_exporter": "python",
   "pygments_lexer": "ipython3",
   "version": "3.6.7"
  }
 },
 "nbformat": 4,
 "nbformat_minor": 2
}
